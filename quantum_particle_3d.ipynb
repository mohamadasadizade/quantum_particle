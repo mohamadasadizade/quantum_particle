{
  "nbformat": 4,
  "nbformat_minor": 0,
  "metadata": {
    "colab": {
      "provenance": []
    },
    "kernelspec": {
      "name": "python3",
      "display_name": "Python 3"
    },
    "language_info": {
      "name": "python"
    }
  },
  "cells": [
    {
      "cell_type": "code",
      "source": [
        "pip install plotly"
      ],
      "metadata": {
        "id": "kImzS0i0rdeV"
      },
      "execution_count": null,
      "outputs": []
    },
    {
      "cell_type": "code",
      "source": [
        "import numpy as np\n",
        "import plotly.graph_objects as go"
      ],
      "metadata": {
        "id": "zMVcJEJgJz4U"
      },
      "execution_count": 32,
      "outputs": []
    },
    {
      "cell_type": "code",
      "source": [
        "def quantum(n_x, n_y, n_z):\n",
        "  L = 1.0\n",
        "  grid_points = 30\n",
        "\n",
        "  # Schrödinger equation solution\n",
        "  def psi(x, y, z, n_x, n_y, n_z, L):\n",
        "      return (np.sqrt(8 / L**3) *\n",
        "              np.sin(n_x * np.pi * x / L) *\n",
        "              np.sin(n_y * np.pi * y / L) *\n",
        "              np.sin(n_z * np.pi * z / L))\n",
        "\n",
        "  # grid of points in the box\n",
        "  x = np.linspace(0, L, grid_points)\n",
        "  y = np.linspace(0, L, grid_points)\n",
        "  z = np.linspace(0, L, grid_points)\n",
        "  x, y, z = np.meshgrid(x, y, z, indexing='ij')\n",
        "\n",
        "  # probability density\n",
        "  prob_density = psi(x, y, z, n_x, n_y, n_z, L)**2\n",
        "  prob_density /= np.max(prob_density)  # Normalize the probability density\n",
        "\n",
        "  fig = go.Figure(data=go.Volume(\n",
        "      x=x.flatten(),\n",
        "      y=y.flatten(),\n",
        "      z=z.flatten(),\n",
        "      value=prob_density.flatten(),\n",
        "      isomin=0.1,\n",
        "      isomax=1,\n",
        "      opacity=0.5,\n",
        "      surface_count=17,\n",
        "      colorscale=\"Viridis\"\n",
        "  ))\n",
        "\n",
        "  fig.update_layout(\n",
        "      title=f\"3D Probability Density of a Particle in a Box\\nState: (n_x={n_x}, n_y={n_y}, n_z={n_z})\",\n",
        "      scene=dict(\n",
        "          xaxis_title=\"X\",\n",
        "          yaxis_title=\"Y\",\n",
        "          zaxis_title=\"Z\",\n",
        "          aspectmode=\"cube\"\n",
        "      ),\n",
        "      margin=dict(t=0, b=0, l=0, r=0)\n",
        "  )\n",
        "\n",
        "  fig.show()"
      ],
      "metadata": {
        "id": "n33sBDw0AnMF"
      },
      "execution_count": null,
      "outputs": []
    },
    {
      "cell_type": "code",
      "source": [
        "quantum(1, 1, 1)"
      ],
      "metadata": {
        "id": "KjdglsEjIIcZ"
      },
      "execution_count": null,
      "outputs": []
    },
    {
      "cell_type": "code",
      "source": [
        "quantum(2, 1, 1)"
      ],
      "metadata": {
        "id": "pgmQrbPHIOVY"
      },
      "execution_count": null,
      "outputs": []
    },
    {
      "cell_type": "code",
      "source": [
        "quantum(2, 2, 1)"
      ],
      "metadata": {
        "id": "tvNE3UaOIQsw"
      },
      "execution_count": null,
      "outputs": []
    },
    {
      "cell_type": "code",
      "source": [
        "quantum(3, 1, 1)"
      ],
      "metadata": {
        "id": "ldilhBSfIUF5"
      },
      "execution_count": null,
      "outputs": []
    }
  ]
}